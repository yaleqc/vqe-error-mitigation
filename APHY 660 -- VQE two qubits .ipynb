{
 "cells": [
  {
   "cell_type": "code",
   "execution_count": 1,
   "metadata": {},
   "outputs": [],
   "source": [
    "%load_ext autoreload\n",
    "%autoreload 2"
   ]
  },
  {
   "cell_type": "markdown",
   "metadata": {},
   "source": [
    "This notebook will closely follow the [Simulating Molecules using VQE Qiskit Tutorial](https://qiskit.org/textbook/ch-applications/vqe-molecules.html). \n",
    "$$\\newcommand{\\ket}[1]{|{#1}\\rangle}\\newcommand{\\bra}[1]{\\langle{#1}|}$$"
   ]
  },
  {
   "cell_type": "markdown",
   "metadata": {},
   "source": [
    "## Single Qubit VQE"
   ]
  },
  {
   "cell_type": "markdown",
   "metadata": {},
   "source": [
    "Our goal is to estimate the ground state energy $\\lambda_{\\text{min}}$ of some Hamiltonian $H$. \n",
    "\n",
    "By the variational principle, we know the below is true for some quantum state $|\\psi (\\vec{\\theta})\\rangle$ of norm 1, where $\\vec{\\theta}$ represent parameters that we can set to realize any valid quantum state.\n",
    "\n",
    "$$ \\begin{align}\\langle \\psi(\\vec{\\theta})  | H | \\psi(\\vec{\\theta}) \\rangle &= \\sum_{\\lambda_i,\\lambda_j} \\langle \\psi(\\vec{\\theta}) | \\psi_{\\lambda_i} \\rangle \\langle \\psi_{\\lambda_i} | H | \\psi_{\\lambda_j} \\rangle \\langle \\psi_{\\lambda_j} | \\psi(\\vec{\\theta}) \\rangle \\\\\n",
    "&= \\sum_{\\lambda} \\lambda |\\langle \\psi_{\\lambda} | \\psi(\\vec{\\theta}) \\rangle |^2 \\\\\n",
    "&\\geq \\lambda_{\\text{min}} \\underbrace{\\sum_{\\lambda}  |\\langle \\psi_{\\lambda} | \\psi(\\vec{\\theta}) \\rangle|^2}_{1} = \\lambda_{\\text{min}}\\end{align}$$ \n",
    "\n",
    "We also know that for $|\\psi (\\vec{\\theta_{\\text{min}}})\\rangle = |\\psi_{\\text{min}}\\rangle$ (the ground state eigenfunction), we satisy the above inequality. \n",
    "\n",
    "Thus, we must\n",
    "1. Find some way to construct an eigenfunction $|\\psi (\\vec{\\theta})\\rangle$.\n",
    "2. Optimize over the $\\vec{\\theta}$ to minimize $\\langle \\psi(\\vec{\\theta})  | H | \\psi(\\vec{\\theta}) \\rangle$ and find the lowest upper bound to $\\lambda_{\\text{min}}$. "
   ]
  },
  {
   "cell_type": "markdown",
   "metadata": {},
   "source": [
    "With this motivation in mind, let's begin with the simplest case of a 1 qubit Hilbert space. Here, we can access any arbitrary quantum state by applying the $U_3$ gate on an arbitrary intial state $\\ket{\\psi_0}$, namely $\\ket{\\psi (\\vec{\\theta})} = U_3(\\theta_1,\\theta_2, \\theta_3)\\ket{\\psi_0}$ where \n",
    "\n",
    "$$\\begin{align}U_3(\\vec{\\theta}) &= \\begin{pmatrix} \\cos\\left(\\frac{\\theta_1}{2}\\right) & -e^{i \\theta_3} \\sin\\left(\\frac{\\theta_1}{2}\\right)\\\\e^{i\\theta_2}\\sin\\left(\\frac{\\theta_1}{2}\\right)& e^{i\\theta_3 + i\\theta_2}\\cos\\left(\\frac{\\theta_1}{2}\\right)\\end{pmatrix}\\end{align}$$\n",
    "\n",
    "Now that we have defined $\\ket{\\psi (\\vec{\\theta})}$ we can minimize the $\\langle \\psi(\\vec{\\theta})  | H | \\psi(\\vec{\\theta}) \\rangle$ matrix over $\\vec{\\theta}$. The classical optimizer we will use to do this will first use the _Constrained Optimization by Linear Approximation optimizer_ (COBYLA) optimizer in the noiseless case, and the _Simultaneous Perturbation Stochastic Approximation_ (SPSA) optimizer for a noisy simulator. "
   ]
  },
  {
   "cell_type": "markdown",
   "metadata": {},
   "source": [
    "### Example _(ground state energy of random Hermitian)_"
   ]
  },
  {
   "cell_type": "markdown",
   "metadata": {},
   "source": [
    "#### measuring < psi | H | psi>"
   ]
  },
  {
   "cell_type": "code",
   "execution_count": 38,
   "metadata": {},
   "outputs": [],
   "source": [
    "from qiskit import Aer\n",
    "from qiskit.aqua import QuantumInstance\n",
    "from qiskit.aqua.operators import PauliExpectation, CircuitStateFn, CircuitSampler, StateFn\n",
    "from qiskit.aqua.operators import MatrixExpectation, AerPauliExpectation\n",
    "from qiskit.aqua.operators import X, Y, Z, I\n",
    "from qiskit import QuantumCircuit, ClassicalRegister, QuantumRegister\n",
    "import numpy as np"
   ]
  },
  {
   "cell_type": "code",
   "execution_count": 39,
   "metadata": {},
   "outputs": [],
   "source": [
    "# H2-molecule Hamiltonian \n",
    "op =  (-1.0523732 * I^I) + (0.39793742 * I^Z) + (-0.3979374 * Z^I) \\\n",
    "    + (-0.0112801 * Z^Z) + (0.18093119 * X^X)"
   ]
  },
  {
   "cell_type": "code",
   "execution_count": 40,
   "metadata": {},
   "outputs": [],
   "source": [
    "# define the state you w.r.t. which you want the expectation value\n",
    "psi = QuantumCircuit(2)\n",
    "# convert to a state\n",
    "psi = CircuitStateFn(psi)"
   ]
  },
  {
   "cell_type": "code",
   "execution_count": 41,
   "metadata": {},
   "outputs": [
    {
     "name": "stdout",
     "output_type": "stream",
     "text": [
      "Math: -1.06365328\n"
     ]
    }
   ],
   "source": [
    "# \"Mathematical\" < psi | O | psi > \n",
    "print('Math:', psi.adjoint().compose(op).compose(psi).eval().real)"
   ]
  },
  {
   "cell_type": "code",
   "execution_count": 42,
   "metadata": {},
   "outputs": [
    {
     "name": "stdout",
     "output_type": "stream",
     "text": [
      "shots:  -1.0696607609179685\n",
      "aer:  -1.06365328\n",
      "matrix:  -1.06365328\n"
     ]
    }
   ],
   "source": [
    "# Shot-based Results\n",
    "\n",
    "backend = Aer.get_backend('qasm_simulator') \n",
    "q_instance = QuantumInstance(backend, shots=1024)\n",
    "\n",
    "# define the state to sample\n",
    "measurable_expression = StateFn(op, is_measurement=True).compose(psi) \n",
    "\n",
    "# convert to expectation value\n",
    "expectations = {}\n",
    "expectations['shots'] = PauliExpectation().convert(measurable_expression)\n",
    "expectations['aer'] = AerPauliExpectation().convert(measurable_expression)\n",
    "expectations['matrix'] = MatrixExpectation().convert(measurable_expression)\n",
    "\n",
    "samplers = {}\n",
    "for label, expectation  in expectations.items():\n",
    "    samplers[label] = CircuitSampler(q_instance).convert(expectations[label]) \n",
    "\n",
    "# evaluate\n",
    "for label, sampler  in samplers.items():\n",
    "    print(label + \": \", sampler.eval().real)  "
   ]
  },
  {
   "cell_type": "markdown",
   "metadata": {},
   "source": [
    "#### optimization using 1 qubit"
   ]
  },
  {
   "cell_type": "code",
   "execution_count": 43,
   "metadata": {},
   "outputs": [
    {
     "name": "stdout",
     "output_type": "stream",
     "text": [
      "4.04325469422588\n"
     ]
    }
   ],
   "source": [
    "backend = Aer.get_backend('qasm_simulator') \n",
    "q_instance = QuantumInstance(backend, shots=1024)\n",
    "\n",
    "# # H2-molecule Hamiltonian \n",
    "# op =  (-1.0523732 * I^I) + (0.39793742 * I^Z) + (-0.3979374 * Z^I) \\\n",
    "#     + (-0.0112801 * Z^Z) + (0.18093119 * X^X)\n",
    "np.random.seed(0)\n",
    "rand_coeff = np.random.randn(4)\n",
    "op = rand_coeff[0]*I + rand_coeff[1]*X + rand_coeff[2]*Y + rand_coeff[3]*Z\n",
    "op_np = op.to_matrix()\n",
    "\n",
    "def get_measurable_expression(params):\n",
    "    qr = QuantumRegister(1, name=\"q\")\n",
    "    psi_qc = QuantumCircuit(qr)\n",
    "    psi_qc.u(params[0], params[1], params[2], qr[0])\n",
    "    psi_qc = CircuitStateFn(psi_qc)\n",
    "    return StateFn(op, is_measurement=True).compose(psi_qc) \n",
    "    \n",
    "def objective_function(params):\n",
    "    # Obtain a quantum circuit instance from the paramters\n",
    "    measurable_expression = get_measurable_expression(params)\n",
    "    expectation = AerPauliExpectation().convert(measurable_expression)\n",
    "    sampler = CircuitSampler(q_instance).convert(expectation)\n",
    "    return sampler.eval().real\n",
    "\n",
    "print(objective_function([0.1,.1,2]))"
   ]
  },
  {
   "cell_type": "code",
   "execution_count": 47,
   "metadata": {},
   "outputs": [
    {
     "name": "stdout",
     "output_type": "stream",
     "text": [
      "Parameters Found:  [ 3.58252811  1.18273116 -0.01819846]\n",
      "Minimum Energy (vqe):  -0.7137806068776886\n",
      "Minumum Energy (exact):  -0.7137806111073199\n",
      "Percent difference:  5.925674144183837e-07\n"
     ]
    }
   ],
   "source": [
    "from qiskit.aqua.components.optimizers import COBYLA\n",
    "\n",
    "# Initialize the COBYLA optimizer\n",
    "optimizer = COBYLA(maxiter=500, tol=0.0001)\n",
    "\n",
    "# Create the initial parameters (noting that our single qubit variational form has 3 parameters)\n",
    "params = np.random.rand(3)\n",
    "ret = optimizer.optimize(num_vars=3, objective_function=objective_function, initial_point=params)\n",
    "\n",
    "\n",
    "# Obtain the output distribution using the final parameters\n",
    "lambda_min = objective_function(ret[0])\n",
    "\n",
    "\n",
    "print(\"Parameters Found: \", ret[0])\n",
    "print(\"Minimum Energy (vqe): \", lambda_min)\n",
    "\n",
    "v,w = np.linalg.eigh(op_np)\n",
    "print(\"Minumum Energy (exact): \", v[0])\n",
    "\n",
    "print(\"Percent difference: \", (lambda_min - v[0])/np.abs(v[0])*100)"
   ]
  }
 ],
 "metadata": {
  "kernelspec": {
   "display_name": "Python 3",
   "language": "python",
   "name": "python3"
  },
  "language_info": {
   "codemirror_mode": {
    "name": "ipython",
    "version": 3
   },
   "file_extension": ".py",
   "mimetype": "text/x-python",
   "name": "python",
   "nbconvert_exporter": "python",
   "pygments_lexer": "ipython3",
   "version": "3.7.9"
  }
 },
 "nbformat": 4,
 "nbformat_minor": 4
}
