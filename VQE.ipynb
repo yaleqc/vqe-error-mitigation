{
 "cells": [
  {
   "cell_type": "code",
   "execution_count": 1,
   "metadata": {},
   "outputs": [],
   "source": [
    "%load_ext autoreload\n",
    "%autoreload 2"
   ]
  },
  {
   "cell_type": "markdown",
   "metadata": {},
   "source": [
    "This notebook will closely follow the [Simulating Molecules using VQE Qiskit Tutorial](https://qiskit.org/textbook/ch-applications/vqe-molecules.html). "
   ]
  },
  {
   "cell_type": "markdown",
   "metadata": {},
   "source": [
    "Our goal is to estimate the ground state energy $\\lambda_{\\text{min}}$ of some Hamiltonian $H$. \n",
    "\n",
    "By the variational principle, we know the below is true for some quantum state $|\\psi (\\vec{\\theta})\\rangle$ of norm 1, where $\\vec{\\theta}$ represent parameters that we can set to realize any valid quantum state.\n",
    "\n",
    "$$ \\left\\langle \\psi(\\vec{\\theta})  \\right| H \\left| \\psi(\\vec{\\theta}) \\right\\rangle = \\sum_{\\lambda_i,\\lambda_j} \\langle \\psi(\\vec{\\theta}) | \\psi_{\\lambda_i} \\rangle \\langle \\psi_{\\lambda_i} | H | \\psi_{\\lambda_j} \\rangle \\langle \\psi_{\\lambda_j} | \\psi(\\vec{\\theta}) \\rangle$$\n",
    "\n",
    "$$\\left\\langle \\psi(\\vec{\\theta})  \\right| H \\left| \\psi(\\vec{\\theta}) \\right\\rangle = \\sum_{\\lambda} \\lambda |\\langle \\psi_{\\lambda} | \\psi(\\vec{\\theta}) \\rangle |^2$$\n",
    "\n",
    "$$\\left\\langle \\psi(\\vec{\\theta})  \\right| H \\left| \\psi(\\vec{\\theta}) \\right\\rangle \\geq \\lambda_{\\text{min}} \\sum_{\\lambda}  |\\langle \\psi_{\\lambda} | \\psi(\\vec{\\theta}) \\rangle|^2 = \\lambda_{\\text{min}}$$ \n",
    "\n",
    "We also know that for $|\\psi (\\vec{\\theta_{\\text{min}}})\\rangle = |\\psi_{\\text{min}}\\rangle$ (the ground state eigenfunction), we satisy the above inequality. \n",
    "\n",
    "Thus, we must\n",
    "1. Find some way to construct an eigenfunction $|\\psi (\\vec{\\theta})\\rangle$.\n",
    "2. Optimize over the $\\vec{\\theta}$ to minimize $\\langle \\psi(\\vec{\\theta})  | H | \\psi(\\vec{\\theta}) \\rangle$ and find the lowest upper bound to $\\lambda_{\\text{min}}$. "
   ]
  },
  {
   "cell_type": "markdown",
   "metadata": {},
   "source": [
    "With this motivation in mind, let's begin with the simplest case of a 1 qubit Hilbert space. Here, we can access any arbitrary quantum state by applying the $U_3$ gate on an arbitrary intial state $\\left|\\psi_0\\right\\rangle$, namely $\\left|\\psi (\\vec{\\theta})\\right\\rangle = U_3(\\theta_1,\\theta_2, \\theta_3)\\left|\\psi_0\\right\\rangle$ where \n",
    "\n",
    "$$U_3(\\vec{\\theta}) = \\begin{pmatrix} \\cos\\left(\\frac{\\theta_1}{2}\\right) & -e^{i \\theta_3} \\sin\\left(\\frac{\\theta_1}{2}\\right)\\\\e^{i\\theta_2}\\sin\\left(\\frac{\\theta_1}{2}\\right)& e^{i\\theta_3 + i\\theta_2}\\cos\\left(\\frac{\\theta_1}{2}\\right)\\end{pmatrix}$$\n",
    "\n",
    "Now that we have defined $\\left|\\psi (\\vec{\\theta})\\right\\rangle$ we can minimize the $\\left\\langle \\psi(\\vec{\\theta})  \\right| H \\left| \\psi(\\vec{\\theta}) \\right\\rangle$ matrix over $\\vec{\\theta}$. The classical optimizer we will use to do this will first use the _Constrained Optimization by Linear Approximation optimizer_ (COBYLA) optimizer in the noiseless case, and the _Simultaneous Perturbation Stochastic Approximation_ (SPSA) optimizer for a noisy simulator. "
   ]
  },
  {
   "cell_type": "markdown",
   "metadata": {},
   "source": [
    "### Example \n",
    "#### _(ground state energy of random single qubit Hermitian operator)_"
   ]
  },
  {
   "cell_type": "markdown",
   "metadata": {},
   "source": [
    "##### measuring < psi | H | psi>"
   ]
  },
  {
   "cell_type": "markdown",
   "metadata": {},
   "source": [
    "To orient the reader, we begin by demonstrating how to find $\\langle \\psi | H | \\psi \\rangle$ using Qiskit. While one could simply take the matematical overlap, this approach quickly becomes computationally inefficient for larger systems. Instead, we estimate $\\langle \\psi | H | \\psi \\rangle$ using multiple shots of an executed quantum circuit. In the example below, we take the expectation of the $H_2$ hydrogen molecule hamiltonian against the $\\left|0\\right\\rangle$ qubit state. "
   ]
  },
  {
   "cell_type": "code",
   "execution_count": 2,
   "metadata": {},
   "outputs": [],
   "source": [
    "from qiskit import QuantumCircuit, execute, Aer\n",
    "from qiskit.aqua import QuantumInstance\n",
    "from qiskit.aqua.operators import PauliExpectation, CircuitStateFn, CircuitSampler, StateFn\n",
    "from qiskit.aqua.operators import MatrixExpectation, AerPauliExpectation\n",
    "from qiskit.aqua.operators import X, Y, Z, I\n",
    "from qiskit import QuantumCircuit, ClassicalRegister, QuantumRegister\n",
    "import numpy as np\n",
    "import matplotlib.pyplot as plt\n",
    "\n",
    "np.set_printoptions(precision=3)"
   ]
  },
  {
   "cell_type": "code",
   "execution_count": 3,
   "metadata": {},
   "outputs": [],
   "source": [
    "# H2-molecule Hamiltonian \n",
    "op =  (-1.0523732 * I^I) + (0.39793742 * I^Z) + (-0.3979374 * Z^I) \\\n",
    "    + (-0.0112801 * Z^Z) + (0.18093119 * X^X)"
   ]
  },
  {
   "cell_type": "code",
   "execution_count": 4,
   "metadata": {},
   "outputs": [],
   "source": [
    "# define the state you w.r.t. which you want the expectation value\n",
    "psi = QuantumCircuit(2)\n",
    "# convert to a state\n",
    "psi = CircuitStateFn(psi)"
   ]
  },
  {
   "cell_type": "code",
   "execution_count": 5,
   "metadata": {},
   "outputs": [
    {
     "name": "stdout",
     "output_type": "stream",
     "text": [
      "Math: -1.06365328\n"
     ]
    }
   ],
   "source": [
    "# \"Mathematical\" < psi | O | psi > \n",
    "print('Math:', psi.adjoint().compose(op).compose(psi).eval().real)"
   ]
  },
  {
   "cell_type": "code",
   "execution_count": 6,
   "metadata": {},
   "outputs": [
    {
     "name": "stdout",
     "output_type": "stream",
     "text": [
      "shots:  -1.0700141421484373\n",
      "aer:  -1.06365328\n",
      "matrix:  -1.06365328\n"
     ]
    }
   ],
   "source": [
    "# Shot-based Results\n",
    "\n",
    "backend = Aer.get_backend('qasm_simulator') \n",
    "q_instance = QuantumInstance(backend, shots=1024)\n",
    "\n",
    "# define the state to sample\n",
    "measurable_expression = StateFn(op, is_measurement=True).compose(psi) \n",
    "\n",
    "# convert to expectation value\n",
    "expectations = {}\n",
    "expectations['shots'] = PauliExpectation().convert(measurable_expression)\n",
    "expectations['aer'] = AerPauliExpectation().convert(measurable_expression)\n",
    "expectations['matrix'] = MatrixExpectation().convert(measurable_expression)\n",
    "\n",
    "samplers = {}\n",
    "for label, expectation  in expectations.items():\n",
    "    samplers[label] = CircuitSampler(q_instance).convert(expectations[label]) \n",
    "\n",
    "# evaluate\n",
    "for label, sampler  in samplers.items():\n",
    "    print(label + \": \", sampler.eval().real)  "
   ]
  },
  {
   "cell_type": "markdown",
   "metadata": {},
   "source": [
    "And so, we see that `AerPauliExpectation` and `MatrixExpectation` are exact methods, while `PauliExpectation` uses shots. "
   ]
  },
  {
   "cell_type": "markdown",
   "metadata": {},
   "source": [
    "##### optimization using 1 qubit"
   ]
  },
  {
   "cell_type": "markdown",
   "metadata": {},
   "source": [
    "Here, we define a random Hermitian operator $H$ within a 1-qubit Hilbert Space and use the variational principle to find the ground state energy `lambda_min` of $H$. "
   ]
  },
  {
   "cell_type": "code",
   "execution_count": 7,
   "metadata": {},
   "outputs": [
    {
     "name": "stdout",
     "output_type": "stream",
     "text": [
      "4.04325469422588\n"
     ]
    }
   ],
   "source": [
    "backend = Aer.get_backend('qasm_simulator') \n",
    "q_instance = QuantumInstance(backend, shots=1024)\n",
    "\n",
    "# setup random hermitian \n",
    "np.random.seed(0)\n",
    "rand_coeff = np.random.randn(4)\n",
    "op = rand_coeff[0]*I + rand_coeff[1]*X + rand_coeff[2]*Y + rand_coeff[3]*Z\n",
    "op_np = op.to_matrix()\n",
    "\n",
    "def get_var_circuit(params):\n",
    "    qr = QuantumRegister(1, name=\"q\")\n",
    "    psi_qc = QuantumCircuit(qr)\n",
    "    psi_qc.u(params[0], params[1], params[2], qr[0])\n",
    "    return psi_qc\n",
    "\n",
    "def get_measurable_expression(params):\n",
    "    psi_qc = get_var_circuit(params)\n",
    "    psi_qc = CircuitStateFn(psi_qc)\n",
    "    return StateFn(op, is_measurement=True).compose(psi_qc) \n",
    "    \n",
    "def objective_function(params):\n",
    "    # Obtain a quantum circuit instance from the paramters\n",
    "    measurable_expression = get_measurable_expression(params)\n",
    "    expectation = AerPauliExpectation().convert(measurable_expression)\n",
    "    sampler = CircuitSampler(q_instance).convert(expectation)\n",
    "    return sampler.eval().real\n",
    "\n",
    "print(objective_function([0.1,.1,2]))"
   ]
  },
  {
   "cell_type": "code",
   "execution_count": 8,
   "metadata": {},
   "outputs": [
    {
     "name": "stdout",
     "output_type": "stream",
     "text": [
      "Parameters Found:  [3.582 1.183 0.247]\n",
      "\n",
      "Ground State Energy (vqe): -0.71378060\n",
      "Ground State Energy (exact): -0.71378061\n",
      "Percent difference: 1.1044281950047938e-06%\n",
      "\n",
      "Ground State (vqe): \n",
      " [-0.219+0.j     0.369+0.903j]\n",
      "Ground State (exact): \n",
      " [-0.219-0.j     0.369+0.903j]\n"
     ]
    },
    {
     "data": {
      "text/html": [
       "<pre style=\"word-wrap: normal;white-space: pre;background: #fff0;line-height: 1.1;font-family: &quot;Courier New&quot;,Courier,monospace\">     ┌──────────────────────────┐\n",
       "q_0: ┤ U(3.5824,1.1826,0.24673) ├\n",
       "     └──────────────────────────┘</pre>"
      ],
      "text/plain": [
       "     ┌──────────────────────────┐\n",
       "q_0: ┤ U(3.5824,1.1826,0.24673) ├\n",
       "     └──────────────────────────┘"
      ]
     },
     "execution_count": 8,
     "metadata": {},
     "output_type": "execute_result"
    }
   ],
   "source": [
    "from qiskit.aqua.components.optimizers import COBYLA\n",
    "\n",
    "# Initialize the COBYLA optimizer\n",
    "optimizer = COBYLA(maxiter=500, tol=0.0001)\n",
    "\n",
    "# Create the initial parameters (noting that our single qubit variational form has 3 parameters)\n",
    "params = np.random.rand(3)\n",
    "ret = optimizer.optimize(num_vars=3, objective_function=objective_function, initial_point=params)\n",
    "\n",
    "\n",
    "# Obtain the output distribution using the final parameters\n",
    "lambda_min = objective_function(ret[0])\n",
    "\n",
    "\n",
    "# comparison of Ground State Energy\n",
    "print(\"Parameters Found: \", ret[0])\n",
    "print(\"\\nGround State Energy (vqe): {:.8f}\".format(lambda_min))\n",
    "v,w = np.linalg.eigh(op_np)\n",
    "print(\"Ground State Energy (exact): {:.8f}\".format(v[0]))\n",
    "print(\"Percent difference: \" + str((lambda_min - v[0])/np.abs(v[0])*100) + \"%\")\n",
    "\n",
    "# comparison of Ground State\n",
    "backend_statevector = Aer.get_backend('statevector_simulator')\n",
    "ground_state_vqe_qc = get_var_circuit(ret[0])\n",
    "ground_state_exact = w[:,0] # take first eigenvector\n",
    "result = execute(ground_state_vqe_qc,backend_statevector).result()\n",
    "ground_state_vqe = result.get_statevector()\n",
    "\n",
    "print(\"\\nGround State (vqe): \\n\", ground_state_vqe)\n",
    "print(\"Ground State (exact): \\n\", ground_state_exact)\n",
    "ground_state_vqe_qc.draw()"
   ]
  },
  {
   "cell_type": "markdown",
   "metadata": {},
   "source": [
    "The VQE algorithm finds a pretty reasonable (~$10^{-6}$% above exact eigenvalue) ground state energy as desired!"
   ]
  },
  {
   "cell_type": "markdown",
   "metadata": {},
   "source": [
    "### Example \n",
    "#### _(ground state energy of two Qubit H$_2$ Hydrogen Molecule)_"
   ]
  },
  {
   "cell_type": "markdown",
   "metadata": {},
   "source": [
    "Here, we define a the H$_2$ Hydrogen Molecule hamiltonian $H$ within a 2-qubit Hilbert Space and use the variational principle to find the ground state energy `lambda_min` of $H$. The 2 qubit variational circuit used to create $\\left|\\psi(\\vec{\\theta})\\right\\rangle$ is based on the work presented by _Shende et al._ \\[2\\] and covered in the Simulating Molecules using VQE Qiskit Tutorial \\[1\\]."
   ]
  },
  {
   "cell_type": "code",
   "execution_count": 9,
   "metadata": {},
   "outputs": [
    {
     "name": "stdout",
     "output_type": "stream",
     "text": [
      "     ┌────────────────────────────┐┌───┐ ┌────────────────────────────┐      »\n",
      "q_0: ┤ U(1.4941,-0.20516,0.31307) ├┤ X ├─┤ U(0.86444,-0.74217,2.2698) ├───■──»\n",
      "     ├───────────────────────────┬┘└─┬─┘┌┴────────────────────────────┴┐┌─┴─┐»\n",
      "q_1: ┤ U(-0.8541,-2.553,0.65362) ├───■──┤ U(-1.4544,0.045759,-0.18718) ├┤ X ├»\n",
      "     └───────────────────────────┘      └──────────────────────────────┘└───┘»\n",
      "«       ┌──────────────────────────┐ ┌───┐┌────────────────────────────┐\n",
      "«q_0: ──┤ U(1.5328,1.4694,0.15495) ├─┤ X ├┤ U(-0.34791,0.15635,1.2303) ├\n",
      "«     ┌─┴──────────────────────────┴┐└─┬─┘├────────────────────────────┤\n",
      "«q_1: ┤ U(0.37816,-0.88779,-1.9808) ├──■──┤ U(1.2024,-0.38733,-0.3023) ├\n",
      "«     └─────────────────────────────┘     └────────────────────────────┘\n",
      "-0.7172682562928445\n"
     ]
    }
   ],
   "source": [
    "backend = Aer.get_backend('qasm_simulator') \n",
    "q_instance = QuantumInstance(backend, shots=1024)\n",
    "\n",
    "# setup random hermitian \n",
    "np.random.seed(0)\n",
    "rand_coeff = np.random.randn(16)\n",
    "op =  (-1.0523732 * I^I) + (0.39793742 * I^Z) + (-0.3979374 * Z^I) \\\n",
    "    + (-0.0112801 * Z^Z) + (0.18093119 * X^X)\n",
    "\n",
    "op_np = op.to_matrix()\n",
    "\n",
    "\n",
    "def get_var_circuit(params):\n",
    "    qr = QuantumRegister(2, name=\"q\")\n",
    "    psi_qc = QuantumCircuit(qr)\n",
    "    psi_qc.u(params[0], params[1], params[2], qr[0])\n",
    "    psi_qc.u(params[3], params[4], params[5], qr[1])\n",
    "    psi_qc.cx(qr[1], qr[0])\n",
    "    \n",
    "    psi_qc.u(params[6], params[7], params[8], qr[0])\n",
    "    psi_qc.u(params[9], params[10], params[11], qr[1])\n",
    "    psi_qc.cx(qr[0], qr[1])\n",
    "    \n",
    "    psi_qc.u(params[12], params[13], params[14], qr[0])\n",
    "    psi_qc.u(params[15], params[16], params[17], qr[1])\n",
    "    psi_qc.cx(qr[1], qr[0])\n",
    "    \n",
    "    psi_qc.u(params[18], params[19], params[20], qr[0])\n",
    "    psi_qc.u(params[21], params[22], params[23], qr[1])\n",
    "    return psi_qc\n",
    "\n",
    "def get_measurable_expression(params, plot=False):\n",
    "    psi_qc = get_var_circuit(params)\n",
    "    if plot:\n",
    "        print(psi_qc)\n",
    "    psi_qc = CircuitStateFn(psi_qc)\n",
    "    return StateFn(op, is_measurement=True).compose(psi_qc) \n",
    "    \n",
    "def objective_function(params, plot=False):\n",
    "    # Obtain a quantum circuit instance from the paramters\n",
    "    measurable_expression = get_measurable_expression(params, plot=plot)\n",
    "    expectation = AerPauliExpectation().convert(measurable_expression)\n",
    "    sampler = CircuitSampler(q_instance).convert(expectation)\n",
    "    return sampler.eval().real\n",
    "\n",
    "print(objective_function(np.random.randn(24), plot=True))"
   ]
  },
  {
   "cell_type": "code",
   "execution_count": 10,
   "metadata": {},
   "outputs": [
    {
     "name": "stdout",
     "output_type": "stream",
     "text": [
      "\n",
      "Ground State Energy (vqe): -1.857274956\n",
      "Ground State Energy (exact): -1.857274958\n",
      "Percent difference: 1.0313009276567964e-07%\n",
      "\n",
      "Ground State (vqe): \n",
      " [[ 2.627e-06-4.436e-05j]\n",
      " [-1.426e-01+9.835e-01j]\n",
      " [ 1.600e-02-1.104e-01j]\n",
      " [ 2.180e-06+1.150e-05j]]\n",
      "Ground State (exact): \n",
      " [[ 1.003e-16+0.j]\n",
      " [ 9.938e-01+0.j]\n",
      " [-1.115e-01+0.j]\n",
      " [-6.654e-16+0.j]]\n"
     ]
    },
    {
     "data": {
      "text/html": [
       "<pre style=\"word-wrap: normal;white-space: pre;background: #fff0;line-height: 1.1;font-family: &quot;Courier New&quot;,Courier,monospace\">     ┌───────────────────────────┐┌───┐ ┌───────────────────────────┐        ┌──────────────────────────┐  ┌───┐┌───────────────────────────┐ \n",
       "q_0: ┤ U(0.14172,0.3048,0.55437) ├┤ X ├─┤ U(0.14171,1.3299,0.79466) ├───■────┤ U(1.223,0.19922,0.55497) ├──┤ X ├┤ U(0.79602,1.0491,0.84788) ├─\n",
       "     ├───────────────────────────┤└─┬─┘┌┴───────────────────────────┴┐┌─┴─┐┌─┴──────────────────────────┴─┐└─┬─┘├───────────────────────────┴┐\n",
       "q_1: ┤ U(1.4704,2.2581,0.099753) ├──■──┤ U(-0.04374,0.44868,0.23005) ├┤ X ├┤ U(-0.077896,0.16094,0.35685) ├──■──┤ U(0.054411,1.1242,0.53814) ├\n",
       "     └───────────────────────────┘     └─────────────────────────────┘└───┘└──────────────────────────────┘     └────────────────────────────┘</pre>"
      ],
      "text/plain": [
       "     ┌───────────────────────────┐┌───┐ ┌───────────────────────────┐        ┌──────────────────────────┐  ┌───┐┌───────────────────────────┐ \n",
       "q_0: ┤ U(0.14172,0.3048,0.55437) ├┤ X ├─┤ U(0.14171,1.3299,0.79466) ├───■────┤ U(1.223,0.19922,0.55497) ├──┤ X ├┤ U(0.79602,1.0491,0.84788) ├─\n",
       "     ├───────────────────────────┤└─┬─┘┌┴───────────────────────────┴┐┌─┴─┐┌─┴──────────────────────────┴─┐└─┬─┘├───────────────────────────┴┐\n",
       "q_1: ┤ U(1.4704,2.2581,0.099753) ├──■──┤ U(-0.04374,0.44868,0.23005) ├┤ X ├┤ U(-0.077896,0.16094,0.35685) ├──■──┤ U(0.054411,1.1242,0.53814) ├\n",
       "     └───────────────────────────┘     └─────────────────────────────┘└───┘└──────────────────────────────┘     └────────────────────────────┘"
      ]
     },
     "execution_count": 10,
     "metadata": {},
     "output_type": "execute_result"
    }
   ],
   "source": [
    "from qiskit.aqua.components.optimizers import COBYLA\n",
    "\n",
    "# Initialize the COBYLA optimizer\n",
    "optimizer = COBYLA(maxiter=500, tol=0.0001)\n",
    "\n",
    "# Create the initial parameters (noting that our single qubit variational form has 3 parameters)\n",
    "params = np.random.rand(24)\n",
    "ret = optimizer.optimize(num_vars=24, objective_function=objective_function, initial_point=params)\n",
    "\n",
    "\n",
    "# Obtain the output distribution using the final parameters\n",
    "lambda_min = objective_function(ret[0])\n",
    "\n",
    "# comparison of Ground State Energy\n",
    "print(\"\\nGround State Energy (vqe): {:.9f}\".format(lambda_min))\n",
    "v,w = np.linalg.eigh(op_np)\n",
    "print(\"Ground State Energy (exact): {:.9f}\".format(v[0]))\n",
    "print(\"Percent difference: \" + str((lambda_min - v[0])/np.abs(v[0])*100) + \"%\")\n",
    "\n",
    "# comparison of Ground State\n",
    "backend_statevector = Aer.get_backend('statevector_simulator')\n",
    "ground_state_vqe_qc = get_var_circuit(ret[0])\n",
    "ground_state_exact = w[:,0] # take first eigenvector\n",
    "result = execute(ground_state_vqe_qc,backend_statevector).result()\n",
    "ground_state_vqe = result.get_statevector()\n",
    "print(\"\\nGround State (vqe): \\n\", ground_state_vqe[:,None])\n",
    "print(\"Ground State (exact): \\n\", ground_state_exact[:,None])\n",
    "ground_state_vqe_qc.draw(fold=300)"
   ]
  },
  {
   "cell_type": "markdown",
   "metadata": {},
   "source": [
    "Again, the VQE algorithm finds a pretty reasonable (~$10^{-7}$% above exact eigenvalue) ground state energy as desired!"
   ]
  },
  {
   "cell_type": "markdown",
   "metadata": {},
   "source": [
    "### Example \n",
    "#### _(ground state energy of LiH with varying atomic distance)_"
   ]
  },
  {
   "cell_type": "markdown",
   "metadata": {},
   "source": [
    "The next perhaps most demonstrative example of VQE capabilities will involve calculating the ground state energy of LiH with varying interatomic distance. Here, we will use both the capabilities of Qiskit Chemistry and Qiskit Aqua."
   ]
  },
  {
   "cell_type": "code",
   "execution_count": 11,
   "metadata": {},
   "outputs": [
    {
     "name": "stderr",
     "output_type": "stream",
     "text": [
      "Numpy 1.16 has memory leak bug  https://github.com/numpy/numpy/issues/13808\n",
      "It is recommended to downgrade to numpy 1.15 or older\n"
     ]
    }
   ],
   "source": [
    "# Imports needed for basic no noise VQE simulation\n",
    "import numpy as np\n",
    "import copy\n",
    "from qiskit import BasicAer\n",
    "from qiskit.aqua import aqua_globals, QuantumInstance\n",
    "from qiskit.aqua.algorithms import NumPyMinimumEigensolver, VQE\n",
    "from qiskit.aqua.components.optimizers import SLSQP, SPSA\n",
    "from qiskit.chemistry.components.initial_states import HartreeFock\n",
    "from qiskit.chemistry.components.variational_forms import UCCSD\n",
    "from qiskit.chemistry.drivers import PySCFDriver\n",
    "from qiskit.chemistry.core import Hamiltonian, QubitMappingType\n",
    "from tqdm import tqdm\n",
    "\n",
    "import matplotlib.pyplot as plt\n",
    "\n",
    "# Some deprecated package issue; one warning is enough.\n",
    "import warnings\n",
    "# warnings.filterwarnings(action='once')\n",
    "warnings.filterwarnings('ignore')"
   ]
  },
  {
   "cell_type": "code",
   "execution_count": 12,
   "metadata": {},
   "outputs": [],
   "source": [
    "molecule = 'H .0 .0 -{0}; Li .0 .0 {0}' # Define molecule; could be H2 or LiH, etc.\n",
    "distances = np.arange(0.5, 3.75, 0.25) # Distances in Angstrom\n",
    "vqe_energies = [] \n",
    "hf_energies = [] # Hartree-Fock energies\n",
    "exact_energies = [] # Exact energies from numerical diagonalization"
   ]
  },
  {
   "cell_type": "code",
   "execution_count": 13,
   "metadata": {},
   "outputs": [
    {
     "name": "stderr",
     "output_type": "stream",
     "text": [
      "100%|██████████| 13/13 [00:41<00:00,  3.22s/it]\n"
     ]
    }
   ],
   "source": [
    "for i in tqdm(range(len(distances))):\n",
    "    d = distances[i]\n",
    "    # set up experiment\n",
    "    driver = PySCFDriver(molecule.format(d/2), basis='sto3g')\n",
    "    qmolecule = driver.run()\n",
    "    operator = Hamiltonian(qubit_mapping=QubitMappingType.PARITY, \n",
    "                           two_qubit_reduction=True, freeze_core=True,\n",
    "                           orbital_reduction=[-3, -2]) # Approxns needed to make this\n",
    "                                                       # problem tractable.\n",
    "    \n",
    "    qubit_op, aux_ops = operator.run(qmolecule)\n",
    "    \n",
    "    # exact classical result\n",
    "    exact_result = NumPyMinimumEigensolver(qubit_op, aux_operators=aux_ops).run()\n",
    "    exact_result = operator.process_algorithm_result(exact_result)\n",
    "    \n",
    "    # VQE\n",
    "    optimizer = SLSQP(maxiter=1000)\n",
    "    initial_state = HartreeFock(operator.molecule_info['num_orbitals'],\n",
    "                                operator.molecule_info['num_particles'],\n",
    "                                qubit_mapping=operator._qubit_mapping,\n",
    "                                two_qubit_reduction=operator._two_qubit_reduction)\n",
    "    \n",
    "    var_form = UCCSD(num_orbitals=operator.molecule_info['num_orbitals'],\n",
    "                     num_particles=operator.molecule_info['num_particles'],\n",
    "                     initial_state=initial_state,\n",
    "                     qubit_mapping=operator._qubit_mapping,\n",
    "                     two_qubit_reduction=operator._two_qubit_reduction)\n",
    "    \n",
    "    algo = VQE(qubit_op, var_form, optimizer, aux_operators=aux_ops)\n",
    "    \n",
    "    vqe_result = algo.run(QuantumInstance(BasicAer.get_backend('statevector_simulator')))\n",
    "    vqe_result = operator.process_algorithm_result(vqe_result)\n",
    "    \n",
    "    exact_energies.append(exact_result.energy)\n",
    "    vqe_energies.append(vqe_result.energy)\n",
    "    hf_energies.append(vqe_result.hartree_fock_energy)"
   ]
  },
  {
   "cell_type": "code",
   "execution_count": 14,
   "metadata": {},
   "outputs": [
    {
     "data": {
      "image/png": "[encoded data removed]",
      "text/plain": [
       "<Figure size 432x288 with 1 Axes>"
      ]
     },
     "metadata": {},
     "output_type": "display_data"
    }
   ],
   "source": [
    "import seaborn as sns\n",
    "sns.set_theme()\n",
    "sns.set(font_scale=1.5)\n",
    "\n",
    "plt.plot(distances, vqe_energies, 'o', color='r',label='VQE')\n",
    "plt.plot(distances, exact_energies, 'x', color='g', label='Exact')\n",
    "plt.plot(distances, hf_energies, color='b',label='Hartree Fock')\n",
    "\n",
    "plt.xlabel('Interatomic distance')\n",
    "plt.ylabel('Energy')\n",
    "plt.title('LiH Ground State Energy')\n",
    "plt.legend(loc='upper right')\n",
    "\n",
    "# Uncomment to save plot! \n",
    "plt.savefig('simulations/vqe_LiH.png', dpi=300)"
   ]
  },
  {
   "cell_type": "markdown",
   "metadata": {},
   "source": [
    "### Example \n",
    "#### _(ground state energy of H-H with varying atomic distance)_"
   ]
  },
  {
   "cell_type": "markdown",
   "metadata": {},
   "source": [
    "We can similarly calculate the ground state energy of the H$_2$ molecule with varying atomic distance. "
   ]
  },
  {
   "cell_type": "code",
   "execution_count": 15,
   "metadata": {},
   "outputs": [],
   "source": [
    "from qiskit.aqua.algorithms import VQE, NumPyEigensolver\n",
    "import matplotlib.pyplot as plt\n",
    "import numpy as np\n",
    "from qiskit.chemistry.components.variational_forms import UCCSD\n",
    "from qiskit.chemistry.components.initial_states import HartreeFock\n",
    "from qiskit.circuit.library import EfficientSU2\n",
    "from qiskit.aqua.components.optimizers import COBYLA, SPSA, SLSQP\n",
    "from qiskit.aqua.operators import Z2Symmetries\n",
    "from qiskit import IBMQ, BasicAer, Aer\n",
    "from qiskit.chemistry.drivers import PySCFDriver, UnitsType\n",
    "from qiskit.chemistry import FermionicOperator\n",
    "from qiskit import IBMQ\n",
    "from qiskit.aqua import QuantumInstance\n",
    "from qiskit.ignis.mitigation.measurement import CompleteMeasFitter\n",
    "from qiskit.providers.aer.noise import NoiseModel"
   ]
  },
  {
   "cell_type": "code",
   "execution_count": 16,
   "metadata": {},
   "outputs": [],
   "source": [
    "molecule = 'H .0 .0 -{0}; H .0 .0 {0}' # Define molecule; could be H2 or LiH, etc.\n",
    "distances = np.arange(0.25, 4.0, 0.25) # Distances in Angstrom\n",
    "vqe_energies = [] \n",
    "exact_energies = [] # Exact energies from numerical diagonalization\n",
    "hf_energies = []"
   ]
  },
  {
   "cell_type": "code",
   "execution_count": 17,
   "metadata": {},
   "outputs": [
    {
     "name": "stderr",
     "output_type": "stream",
     "text": [
      "100%|██████████| 15/15 [00:12<00:00,  1.19it/s]\n"
     ]
    }
   ],
   "source": [
    "backend = BasicAer.get_backend(\"statevector_simulator\")\n",
    "for i in tqdm(range(len(distances))):\n",
    "    d = distances[i]\n",
    "    \n",
    "    # set up experiment\n",
    "    driver = PySCFDriver(molecule.format(d/2),  unit=UnitsType.ANGSTROM, charge=0, spin=0, basis='sto3g')\n",
    "    qmolecule = driver.run()\n",
    "    num_particles = qmolecule.num_alpha + qmolecule.num_beta\n",
    "    operator = Hamiltonian(qubit_mapping=QubitMappingType.PARITY, \n",
    "                           two_qubit_reduction=True) # Approxns needed to make this\n",
    "                                                       # problem tractable.\n",
    "    \n",
    "    qubitOp, auxOps = operator.run(qmolecule)\n",
    "    \n",
    "    # exact classical result\n",
    "    exact_solution = NumPyEigensolver(qubitOp).run()\n",
    "    exact_result = np.real(exact_solution.eigenvalues) + qmolecule.nuclear_repulsion_energy\n",
    "    \n",
    "    # VQE\n",
    "    optimizer = SLSQP(maxiter=1000)\n",
    "    num_spin_orbitals = qmolecule.num_orbitals * 2\n",
    "    initial_state = HartreeFock(num_spin_orbitals,\n",
    "                                num_particles,\n",
    "                                qubit_mapping='parity',\n",
    "                                two_qubit_reduction=True)\n",
    "    \n",
    "    var_form = UCCSD(num_orbitals=num_spin_orbitals,\n",
    "                     num_particles=num_particles,\n",
    "                     initial_state=initial_state,\n",
    "                     qubit_mapping='parity',\n",
    "                     two_qubit_reduction=True)\n",
    "    \n",
    "    vqe = VQE(qubitOp, var_form, optimizer, aux_operators=auxOps)\n",
    "    vqe_result = vqe.run(QuantumInstance(BasicAer.get_backend('statevector_simulator')))\n",
    "    vqe_result = operator.process_algorithm_result(vqe_result)\n",
    "    \n",
    "    exact_energies.append(exact_result)\n",
    "    vqe_energies.append(vqe_result.energy)\n",
    "    hf_energies.append(vqe_result.hartree_fock_energy)"
   ]
  },
  {
   "cell_type": "code",
   "execution_count": 18,
   "metadata": {},
   "outputs": [
    {
     "name": "stdout",
     "output_type": "stream",
     "text": [
      "\n"
     ]
    }
   ],
   "source": [
    "''' Another way!\n",
    "backend = BasicAer.get_backend(\"statevector_simulator\")\n",
    "for i, d in tqdm(enumerate(distances)):    \n",
    "    # set up experiment\n",
    "    driver = PySCFDriver(molecule.format(d/2),  unit=UnitsType.ANGSTROM, charge=0, spin=0, basis='sto3g')\n",
    "    qmolecule = driver.run()\n",
    "    num_particles = qmolecule.num_alpha + qmolecule.num_beta\n",
    "    qubitOp = FermionicOperator(h1=qmolecule.one_body_integrals, h2=qmolecule.two_body_integrals).mapping(map_type='parity')\n",
    "    qubitOp = Z2Symmetries.two_qubit_reduction(qubitOp, num_particles)\n",
    "    \n",
    "    # exact classical result\n",
    "    exact_solution = NumPyEigensolver(qubitOp).run()\n",
    "    exact_result = np.real(exact_solution.eigenvalues) + qmolecule.nuclear_repulsion_energy\n",
    "    \n",
    "    \n",
    "    optimizer = SPSA(maxiter=100)\n",
    "    var_form = EfficientSU2(qubitOp.num_qubits, entanglement=\"linear\")\n",
    "    vqe = VQE(qubitOp, var_form, optimizer=optimizer)\n",
    "    vqe_result = np.real(vqe.run(backend)['eigenvalue'] + qmolecule.nuclear_repulsion_energy)\n",
    "    \n",
    "    exact_energies.append(exact_result)\n",
    "    vqe_energies.append(vqe_result)\n",
    "'''\n",
    "print(\"\")"
   ]
  },
  {
   "cell_type": "code",
   "execution_count": 19,
   "metadata": {},
   "outputs": [
    {
     "data": {
      "image/png": "[encoded data removed]",
      "text/plain": [
       "<Figure size 432x288 with 1 Axes>"
      ]
     },
     "metadata": {},
     "output_type": "display_data"
    }
   ],
   "source": [
    "import seaborn as sns\n",
    "sns.set_theme()\n",
    "sns.set(font_scale=1.5)\n",
    "\n",
    "plt.plot(distances, vqe_energies, 'o', color='r',label='VQE')\n",
    "plt.plot(distances, exact_energies, 'x', color='g', label='Exact')\n",
    "plt.plot(distances, hf_energies, color='b',label='Hartree Fock')\n",
    "\n",
    "\n",
    "plt.xlabel('Interatomic distance (Angstrom)')\n",
    "plt.ylabel('Energy')\n",
    "plt.title('H-H Ground State Energy')\n",
    "plt.legend(loc='upper right')\n",
    "\n",
    "# Uncomment to save plot! \n",
    "plt.savefig('simulations/vqe_H2.png', dpi=300)"
   ]
  },
  {
   "cell_type": "markdown",
   "metadata": {},
   "source": [
    "### Example with Noise\n",
    "#### _(ground state energy of H-H with varying atomic distance)_"
   ]
  },
  {
   "cell_type": "markdown",
   "metadata": {},
   "source": [
    "We can add noise and error mitigation into our quantum circuit and again calculate the ground state energy of the H$_2$ molecule with varying atomic distance. "
   ]
  },
  {
   "cell_type": "code",
   "execution_count": null,
   "metadata": {},
   "outputs": [],
   "source": []
  },
  {
   "cell_type": "markdown",
   "metadata": {},
   "source": [
    "**References:**\n",
    "1. [Simulating Molecules using VQE, Qiskit Tutorial](https://qiskit.org/textbook/ch-applications/vqe-molecules.html)\n",
    "2. Shende, Vivek V., Igor L. Markov, and Stephen S. Bullock. \"Minimal universal two-qubit cnot-based circuits.\" arXiv preprint quant-ph/0308033 (2003)."
   ]
  }
 ],
 "metadata": {
  "kernelspec": {
   "display_name": "Python 3",
   "language": "python",
   "name": "python3"
  },
  "language_info": {
   "codemirror_mode": {
    "name": "ipython",
    "version": 3
   },
   "file_extension": ".py",
   "mimetype": "text/x-python",
   "name": "python",
   "nbconvert_exporter": "python",
   "pygments_lexer": "ipython3",
   "version": "3.7.9"
  }
 },
 "nbformat": 4,
 "nbformat_minor": 4
}
